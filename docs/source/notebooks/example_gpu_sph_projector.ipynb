{
 "cells": [
  {
   "cell_type": "markdown",
   "id": "bbcc17be-d19c-4c1c-8467-c344bf754416",
   "metadata": {},
   "source": [
    "# Notebook 5a: SPH-projection on the GPU + orientation class\n",
    "\n",
    "Here we compare the CPU and GPU implementations of SPH projection."
   ]
  },
  {
   "cell_type": "code",
   "execution_count": null,
   "id": "1ad71f0e-7b68-410e-b986-3bbd299fb3d9",
   "metadata": {},
   "outputs": [],
   "source": [
    "import paicos as pa\n",
    "import numpy as np\n",
    "pa.use_units(True)"
   ]
  },
  {
   "cell_type": "code",
   "execution_count": null,
   "id": "8b3c6b2e-f899-4538-ba01-8c18efecfc26",
   "metadata": {},
   "outputs": [],
   "source": [
    "# Load snapshot\n",
    "snap = pa.Snapshot(pa.data_dir, 247)"
   ]
  },
  {
   "cell_type": "markdown",
   "id": "78260d9e-ac2f-4f04-a40e-8d62b2eaab4d",
   "metadata": {},
   "source": [
    "### Initialize orientation\n",
    "\n",
    "Here we use a Paicos orientation class to initialize the view such that the \n",
    "width of the image is along the $x$-coordinate of the simulation and the height\n",
    "of the image is along the $y$-coordinate. The depth of the image is in the $z$-direction.\n",
    "\n",
    "The orientation class has methods for rotating the view around $x$, $y$, and $z$\n",
    "or around the axes of its local coordinate system. When an orientation\n",
    "instance has been passed to an ImageCreator (such as the projector below),\n",
    "then calling these methods will result in a rotation around the center of\n",
    "the image."
   ]
  },
  {
   "cell_type": "code",
   "execution_count": null,
   "id": "e6624b9a-8599-490f-8a77-850e6cbe67a5",
   "metadata": {},
   "outputs": [],
   "source": [
    "# Do some arbitrary orientation\n",
    "orientation = pa.Orientation(normal_vector=[0, 0, 1], perp_vector1=[1, 0, 0])\n",
    "orientation.rotate_around_normal_vector(degrees=20)  # Image depth direction\n",
    "orientation.rotate_around_perp_vector1(degrees=35)  # Image width direction\n",
    "orientation.rotate_around_perp_vector2(degrees=-47)  # Image height direction"
   ]
  },
  {
   "cell_type": "markdown",
   "id": "6df9b9c1-1867-47b5-b61f-00013ab82503",
   "metadata": {},
   "source": [
    "### Initialize projectors"
   ]
  },
  {
   "cell_type": "code",
   "execution_count": null,
   "id": "89b24aa5-7ccc-4553-b438-8c84b912076a",
   "metadata": {},
   "outputs": [],
   "source": [
    "# Pixels along horizontal direction\n",
    "npix = 256\n",
    "\n",
    "# Center of projection\n",
    "center = snap.Cat.Group['GroupPos'][0]\\\n",
    "\n",
    "R200c = snap.Cat.Group['Group_R_Crit200'][0]\n",
    "\n",
    "# Widths of projection (width, height and depth)\n",
    "widths = np.array([10000, 10000, 10000]) * R200c.uq\n",
    "\n",
    "projector = pa.NestedProjector(snap, center, widths, orientation,\n",
    "                               npix=npix, factor=2, npix_min=npix // 16,\n",
    "                               store_subimages=True)\n",
    "\n",
    "gpu_projector = pa.GpuSphProjector(snap, center, widths, orientation,\n",
    "                                   npix=npix, threadsperblock=8,\n",
    "                                   do_pre_selection=False)"
   ]
  },
  {
   "cell_type": "markdown",
   "id": "0969f5e3-5bad-4124-9366-06e2cbff1d33",
   "metadata": {},
   "source": [
    "### Project density and display it"
   ]
  },
  {
   "cell_type": "code",
   "execution_count": null,
   "id": "6fc20250-87ea-488e-b831-77f3009b0381",
   "metadata": {},
   "outputs": [],
   "source": [
    "%matplotlib inline\n",
    "import matplotlib.pyplot as plt\n",
    "from matplotlib.colors import LogNorm\n",
    "\n",
    "dens = projector.project_variable(\n",
    "    '0_Masses') / projector.project_variable('0_Volume')\n",
    "gpu_dens = gpu_projector.project_variable(\n",
    "    '0_Masses') / gpu_projector.project_variable('0_Volume')\n",
    "\n",
    "\n",
    "plt.figure(1)\n",
    "plt.clf()\n",
    "fig, axes = plt.subplots(num=1, ncols=2, sharex=True, sharey=True)\n",
    "axes[0].imshow(\n",
    "    dens.value, extent=projector.centered_extent.value, norm=LogNorm())\n",
    "axes[1].imshow(\n",
    "    gpu_dens.value, extent=projector.centered_extent.value, norm=LogNorm())\n",
    "\n",
    "axes[0].set_title('NestedProjector')\n",
    "axes[1].set_title('GpuSphProjector')\n",
    "plt.show()"
   ]
  },
  {
   "cell_type": "code",
   "execution_count": null,
   "id": "3b585373-728a-4831-859b-85ac5b075303",
   "metadata": {},
   "outputs": [],
   "source": []
  }
 ],
 "metadata": {
  "kernelspec": {
   "display_name": "Python 3 (ipykernel)",
   "language": "python",
   "name": "python3"
  },
  "language_info": {
   "codemirror_mode": {
    "name": "ipython",
    "version": 3
   },
   "file_extension": ".py",
   "mimetype": "text/x-python",
   "name": "python",
   "nbconvert_exporter": "python",
   "pygments_lexer": "ipython3",
   "version": "3.10.12"
  }
 },
 "nbformat": 4,
 "nbformat_minor": 5
}
