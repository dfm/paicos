{
 "cells": [
  {
   "cell_type": "markdown",
   "id": "6fd4eead-aaf4-417b-8a6a-4cc44270b0e2",
   "metadata": {},
   "source": [
    "# Notebook 2a: Creating radial profiles\n",
    "\n",
    "Here we show how to create 1D histograms and save them using a PaicosWriter (which basically saves hdf5 files including the original meta data from the arepo snapshot and the units of whatever PaicosQuantity that you store).\n",
    "\n",
    "The use case is here that we want to create radial profiles of various physical quantities. The actual plotting will take place in notebook 2b."
   ]
  },
  {
   "cell_type": "markdown",
   "id": "6bca788a-5db3-453e-ae2e-8e1bbde60de7",
   "metadata": {},
   "source": [
    "## Selecting a spherical region for analysis"
   ]
  },
  {
   "cell_type": "code",
   "execution_count": 1,
   "id": "e323486e-21e2-4503-87eb-742e66cfb839",
   "metadata": {},
   "outputs": [],
   "source": [
    "import paicos as pa\n",
    "import numpy as np\n",
    "\n",
    "# Open an Arepo snapshot\n",
    "snap = pa.Snapshot(pa.root_dir + \"/data\", 247)\n",
    "\n",
    "# The center of the most massive Friends-of-friends group in the simulation\n",
    "center = snap.Cat.Group[\"GroupPos\"][0]\n",
    "\n",
    "R200c = snap.Cat.Group['Group_R_Crit200'][0]\n",
    "\n",
    "# The maximum radius to be considered\n",
    "r_max = 10000*center.uq\n",
    "\n",
    "# Use OpenMP parallel Cython code to find this central sphere\n",
    "index = pa.util.get_index_of_radial_range(snap['0_Coordinates'],\n",
    "                                          center, 0., r_max)\n",
    "\n",
    "# Create a new snap object which only contains the index above\n",
    "snap = snap.select(index, parttype=0)\n",
    "\n",
    "# Calculate the radial distances (a bit duplicate here...)\n",
    "r = np.sqrt(np.sum((snap[\"0_Coordinates\"] - center[None, :]) ** 2.0,\n",
    "            axis=1))"
   ]
  },
  {
   "cell_type": "markdown",
   "id": "281a2a50-7689-4860-947b-d97cf105fefd",
   "metadata": {},
   "source": [
    "## Make gas histograms"
   ]
  },
  {
   "cell_type": "code",
   "execution_count": 2,
   "id": "8a06571d-f8b1-4b6b-beaf-e75ae84bd6ae",
   "metadata": {},
   "outputs": [
    {
     "name": "stdout",
     "output_type": "stream",
     "text": [
      "Attempting to get derived variable: 0_Volume...\t[DONE]\n",
      "\n",
      "Attempting to get derived variable: 0_TemperaturesTimesMasses...\n",
      "\tSo we need the variable: 0_Temperatures...\n",
      "\tSo we need the variable: 0_MeanMolecularWeight...\t[DONE]\n",
      "\n",
      "Attempting to get derived variable: 0_MagneticFieldSquaredTimesVolume...\t[DONE]\n",
      "\n",
      "Attempting to get derived variable: 0_PressureTimesVolume...\t[DONE]\n",
      "\n"
     ]
    }
   ],
   "source": [
    "# Create a Paicos writer object\n",
    "radfile = pa.PaicosWriter(snap, pa.root_dir + 'data', basename='radial')\n",
    "\n",
    "# Set up the binning\n",
    "bins = [1e-2*r_max, r_max, 100]\n",
    "\n",
    "# Create a histogram object\n",
    "h_r = pa.Histogram(r, bins=bins, logscale=True)\n",
    "\n",
    "# Save the bin centers\n",
    "radfile.write_data('bin_centers', h_r.bin_centers)\n",
    "\n",
    "# Bin volumes (of the shells)\n",
    "bin_volumes = np.diff(4/3*np.pi*h_r.bin_edges**3)\n",
    "radfile.write_data('bin_volumes', bin_volumes)\n",
    "\n",
    "gas_keys = ['0_Masses',\n",
    "            '0_Volume',\n",
    "            '0_TemperaturesTimesMasses',\n",
    "            '0_MagneticFieldSquaredTimesVolume',\n",
    "            '0_PressureTimesVolume']\n",
    "\n",
    "# Do the histograms and save them at the same time\n",
    "for key in gas_keys:\n",
    "    radfile.write_data(key, h_r.hist(snap[key]))"
   ]
  },
  {
   "cell_type": "markdown",
   "id": "51fcd7ac-a687-4567-8f6e-056eac2b4fb0",
   "metadata": {},
   "source": [
    "## Save some extra useful information from the FoF catalog"
   ]
  },
  {
   "cell_type": "code",
   "execution_count": 3,
   "id": "12436ae9-9a02-436b-af8f-630955460cc7",
   "metadata": {},
   "outputs": [],
   "source": [
    "# It will probably also be useful to have some group properties\n",
    "# We save the 10 most massive FOF groups (sorted according to their M200_crit)\n",
    "index = np.argsort(snap.Cat.Group['Group_M_Crit200'])[::-1]\n",
    "for key in snap.Cat.Group.keys():\n",
    "    radfile.write_data(key, snap.Cat.Group[key][index[:10]], group='Group')\n",
    "\n",
    "# Short hand access to the most massive will probably be nice\n",
    "radfile.write_data('R200c', R200c)\n",
    "radfile.write_data('center', center)"
   ]
  },
  {
   "cell_type": "markdown",
   "id": "8986fb93-1ca8-45ee-9f91-b7f9576007ea",
   "metadata": {},
   "source": [
    "## Make mass histograms for non-gas parttypes"
   ]
  },
  {
   "cell_type": "code",
   "execution_count": 4,
   "id": "95abbbbd-30db-4ec7-9084-cf6b19171ae3",
   "metadata": {},
   "outputs": [
    {
     "name": "stdout",
     "output_type": "stream",
     "text": [
      "Attempting to get derived variable: 1_Masses...\t[DONE]\n",
      "\n",
      "Attempting to get derived variable: 3_Masses...\t[DONE]\n",
      "\n"
     ]
    }
   ],
   "source": [
    "# Let us now also add some other parttype profiles\n",
    "for parttype in range(1, snap.nspecies):\n",
    "    pstr = '{}_'.format(parttype)\n",
    "    # Re-open the Arepo snapshot\n",
    "    snap = pa.Snapshot(pa.root_dir + \"/data\", 247)\n",
    "\n",
    "    # Use OpenMP parallel Cython code to find this central sphere\n",
    "    index = pa.util.get_index_of_radial_range(snap[pstr+'Coordinates'],\n",
    "                                              center, 0., r_max)\n",
    "\n",
    "    # Create a new snap object which only contains the index above\n",
    "    snap = snap.select(index, parttype=parttype)\n",
    "\n",
    "    r = np.sqrt(np.sum((snap[pstr+\"Coordinates\"] - center[None, :]) ** 2.0,\n",
    "                axis=1))\n",
    "\n",
    "    # Create a new histogram object\n",
    "    h_r = pa.Histogram(r, bins=bins, logscale=True)\n",
    "\n",
    "    # Write the mass profile\n",
    "    radfile.write_data(pstr + 'Masses', h_r.hist(snap[pstr + 'Masses']))"
   ]
  },
  {
   "cell_type": "markdown",
   "id": "4af7d02a-b0f8-47d6-84b6-c93d355a6931",
   "metadata": {},
   "source": [
    "## Wrap up the calculation"
   ]
  },
  {
   "cell_type": "code",
   "execution_count": 5,
   "id": "0bb6fff1-cf33-4575-a982-93a39da034e1",
   "metadata": {},
   "outputs": [
    {
     "name": "stdout",
     "output_type": "stream",
     "text": [
      "/Users/berlok/projects/paicos/data/tmp_radial_247.hdf5\n",
      "/Users/berlok/projects/paicos/data/radial_247.hdf5\n"
     ]
    }
   ],
   "source": [
    "# Rename from a tmp_*.hdf5 file to the final filename\n",
    "radfile.finalize()\n",
    "print(radfile.tmp_filename)\n",
    "print(radfile.filename)"
   ]
  },
  {
   "cell_type": "code",
   "execution_count": null,
   "id": "e079d1d0-85d8-4d27-a319-5e0d27d063fc",
   "metadata": {},
   "outputs": [],
   "source": []
  }
 ],
 "metadata": {
  "kernelspec": {
   "display_name": "Python 3 (ipykernel)",
   "language": "python",
   "name": "python3"
  },
  "language_info": {
   "codemirror_mode": {
    "name": "ipython",
    "version": 3
   },
   "file_extension": ".py",
   "mimetype": "text/x-python",
   "name": "python",
   "nbconvert_exporter": "python",
   "pygments_lexer": "ipython3",
   "version": "3.10.12"
  }
 },
 "nbformat": 4,
 "nbformat_minor": 5
}
