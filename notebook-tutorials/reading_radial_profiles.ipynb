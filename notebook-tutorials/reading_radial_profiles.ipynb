{
 "cells": [
  {
   "cell_type": "markdown",
   "id": "5050a0d2-98ce-428f-b2d0-2be8db87545c",
   "metadata": {},
   "source": [
    "# Notebook 2b: Reading and plotting radial profiles\n",
    "\n",
    "Here we load the data produced in notebook 2a and plot it (so you'll need to run that notebook first!)\n",
    "\n",
    "The main goal of this notebook is to show how one can load previously saved data including units and metadata\n",
    "using the `PaicosReader` class."
   ]
  },
  {
   "cell_type": "code",
   "execution_count": null,
   "id": "38dfde31-06ea-4b2b-b708-488ba15c7a77",
   "metadata": {},
   "outputs": [],
   "source": [
    "import paicos as pa\n",
    "import numpy as np\n",
    "\n",
    "# Simply read the radial file using the standard reader\n",
    "pro_simple = pa.PaicosReader(pa.data_dir, 247,\n",
    "                             basename='radial', load_all=True)"
   ]
  },
  {
   "cell_type": "code",
   "execution_count": null,
   "id": "eebf29f8-3db0-4e3f-af86-f4dd4a0e5e1f",
   "metadata": {},
   "outputs": [],
   "source": [
    "# The data fields that have been loaded\n",
    "pro_simple.keys()"
   ]
  },
  {
   "cell_type": "code",
   "execution_count": null,
   "id": "363edcd7-0312-41a2-b635-dede06314b23",
   "metadata": {},
   "outputs": [],
   "source": [
    "# They all have units, for instance\n",
    "pro_simple['0_PressureTimesVolume'][1].to('erg')"
   ]
  },
  {
   "cell_type": "markdown",
   "id": "9a3f5b69-2a60-43c0-b644-71785b9344ec",
   "metadata": {},
   "source": [
    "The PaicosReader object has many of the same attributes as an instance of the Snaphot class (see notebook 1), e.g.\n",
    "you can access"
   ]
  },
  {
   "cell_type": "code",
   "execution_count": null,
   "id": "8ad92317-222a-42d8-821f-71bb9fb87a08",
   "metadata": {},
   "outputs": [],
   "source": [
    "#pro_simple.Config\n",
    "#pro_simple.Header\n",
    "pro_simple.age"
   ]
  },
  {
   "cell_type": "markdown",
   "id": "f03129f2-f838-443f-b089-c576b2dea315",
   "metadata": {},
   "source": [
    "This is because the Snapshot class is a subclass of the PaicosReader class. "
   ]
  },
  {
   "cell_type": "markdown",
   "id": "134fb6da-93ab-4c6a-889d-a0c74ed496aa",
   "metadata": {},
   "source": [
    "## Define a custom reader\n",
    "\n",
    "The default reader is already quite useful. It can however also be useful to define custom readers as done below."
   ]
  },
  {
   "cell_type": "code",
   "execution_count": null,
   "id": "e9b524e9-9f4d-40b7-bacc-5cc8d85bb161",
   "metadata": {},
   "outputs": [],
   "source": [
    "class RadialReader(pa.PaicosReader):\n",
    "    \"\"\"\n",
    "    A quick custom reader for radial profiles.\n",
    "    This reader gets the densities and the weighted variables of interest\n",
    "    \"\"\"\n",
    "    def __init__(self, basedir, snapnum, basename=\"radial\", load_all=True):\n",
    "\n",
    "        # The PaicosReader class takes care of most of the loading\n",
    "        super().__init__(basedir, snapnum, basename=basename,\n",
    "                         load_all=load_all)\n",
    "\n",
    "        # Get the interesting profiles\n",
    "        keys = list(self.keys())\n",
    "\n",
    "        for key in keys:\n",
    "            if 'Times' in key:\n",
    "                # Keys of the form 'MagneticFieldSquaredTimesVolume'\n",
    "                # are split up\n",
    "                start, end = key.split('Times')\n",
    "                if (end in keys):\n",
    "                    self[start] = self[key]/self[end]\n",
    "                    del self[key]\n",
    "                elif (start[0:2] + end in keys):\n",
    "                    self[start] = self[key]/self[start[0:2] + end]\n",
    "                    del self[key]\n",
    "\n",
    "        # Calculate density if we have both masses and volumes\n",
    "        for p in ['', '0_']:\n",
    "            if (p + 'Masses' in keys) and (p + 'Volume' in keys):\n",
    "                self[p + 'Density'] = self[p+'Masses']/self[p+'Volume']\n",
    "\n",
    "        # For dark matter we use the bin volumes\n",
    "        for p in [str(i) + '_' for i in range(1, 5)]:\n",
    "            self[p + 'Density'] = self[p+'Masses']/self['bin_volumes']\n",
    "            del self[p+'Masses']\n",
    "\n",
    "\n",
    "pro = RadialReader(pa.data_dir, 247)"
   ]
  },
  {
   "cell_type": "code",
   "execution_count": null,
   "id": "9284aff2-1eb9-4369-a1ca-97883413b0e6",
   "metadata": {},
   "outputs": [],
   "source": [
    "# The data fields now contain the following fields\n",
    "pro.keys()"
   ]
  },
  {
   "cell_type": "markdown",
   "id": "900e4989-8d6d-4877-a78e-78ce236cab0c",
   "metadata": {},
   "source": [
    "## Plotting the radial profiles"
   ]
  },
  {
   "cell_type": "code",
   "execution_count": null,
   "id": "e815e627-d1c9-4f2c-9d80-8f54dcfcee78",
   "metadata": {},
   "outputs": [],
   "source": [
    "# Make a density plot of the varius particle types\n",
    "import matplotlib.pyplot as plt\n",
    "for p in range(5):\n",
    "    pstr = str(p)\n",
    "    plt.loglog(pro['bin_centers'].astro, pro[pstr + '_Density'].cgs, label=pstr)\n",
    "\n",
    "plt.xlabel(pro['bin_centers'].astro.label(r'\\mathrm{radius}'))\n",
    "plt.ylabel(pro['0_Density'].cgs.label(r'\\rho'))\n",
    "plt.title('Densities versus radius')\n",
    "plt.legend(frameon=False)"
   ]
  },
  {
   "cell_type": "code",
   "execution_count": null,
   "id": "b71b5930-5897-4c5f-9589-88725b462896",
   "metadata": {},
   "outputs": [],
   "source": [
    "# Plot gas properties\n",
    "fig, axes = plt.subplots(num=2, ncols=3, sharex=True)\n",
    "centers = pro['bin_centers'].astro.to_physical\n",
    "rho = pro['0_Density'].cgs.to_physical\n",
    "axes[0].loglog(centers, rho)\n",
    "axes[0].set_ylabel(rho.label(\"\\\\rho\"))\n",
    "\n",
    "axes[1].loglog(centers, pro['0_Temperatures'])\n",
    "axes[1].set_ylabel(pro['0_Temperatures'].label(\"T\"))\n",
    "\n",
    "B = np.sqrt(pro['0_MagneticFieldSquared']).to('uG').to_physical\n",
    "axes[2].loglog(centers, B)\n",
    "axes[2].set_ylabel(B.label(\"B\"))\n",
    "\n",
    "for ii in range(3):\n",
    "    axes[ii].set_xlabel(centers.label(r'\\mathrm{radius}'))"
   ]
  },
  {
   "cell_type": "markdown",
   "id": "ac07a5d3-0275-49a7-bda5-8a4b884d3e21",
   "metadata": {},
   "source": [
    "## Plot group properties"
   ]
  },
  {
   "cell_type": "code",
   "execution_count": null,
   "id": "52538d0a-778f-4519-91e4-968eb8fcef9a",
   "metadata": {},
   "outputs": [],
   "source": [
    "# Plot halo masses versus radii\n",
    "R = pro['Group']['Group_R_Crit200'].astro\n",
    "M = pro['Group']['Group_M_Crit200'].no_small_h.astro\n",
    "plt.semilogy(R, M, '.')\n",
    "plt.xlabel(R.label(r'R_{200\\mathrm{c}}'))\n",
    "plt.ylabel(M.label(r'M_{200\\mathrm{c}}'))"
   ]
  }
 ],
 "metadata": {
  "kernelspec": {
   "display_name": "Python 3 (ipykernel)",
   "language": "python",
   "name": "python3"
  },
  "language_info": {
   "codemirror_mode": {
    "name": "ipython",
    "version": 3
   },
   "file_extension": ".py",
   "mimetype": "text/x-python",
   "name": "python",
   "nbconvert_exporter": "python",
   "pygments_lexer": "ipython3",
   "version": "3.10.12"
  }
 },
 "nbformat": 4,
 "nbformat_minor": 5
}
