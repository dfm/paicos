{
 "cells": [
  {
   "cell_type": "markdown",
   "id": "8f23979d-1de7-44d5-b044-bf1ffa0a5eb9",
   "metadata": {},
   "source": [
    "# Notebook 3b: Loading and plotting a 2D histogram\n",
    "\n",
    "We can load the 2d histogram data saved in notebook 3a. We then plot again, restoring the units and colorlabel."
   ]
  },
  {
   "cell_type": "code",
   "execution_count": null,
   "id": "073265ea-63a9-4033-8a5f-69c45a21abe6",
   "metadata": {},
   "outputs": [],
   "source": [
    "import paicos as pa\n",
    "\n",
    "# Load the histogram\n",
    "rhoT = pa.Histogram2DReader(pa.data_dir, 247, basename='rhoT_hist')"
   ]
  },
  {
   "cell_type": "code",
   "execution_count": null,
   "id": "8643b210-7450-4d16-86f8-5de72ef66432",
   "metadata": {},
   "outputs": [],
   "source": [
    "%matplotlib inline\n",
    "import matplotlib.pyplot as plt\n",
    "from matplotlib.colors import LogNorm\n",
    "\n",
    "### Copy-pasted plotting code from the other script\n",
    "\n",
    "plt.figure(1)\n",
    "plt.clf()\n",
    "\n",
    "# Convert to physical and some sensible units\n",
    "xvals = rhoT.centers_x.to_physical.to('g cm^-3')\n",
    "yvals = rhoT.centers_y\n",
    "\n",
    "plt.pcolormesh(xvals.value, yvals.value,\n",
    "               rhoT.hist2d.value, norm=LogNorm())\n",
    "plt.xlabel(xvals.label('\\\\rho'))\n",
    "plt.ylabel(yvals.label('T'))\n",
    "\n",
    "plt.title('paicos Histogram2D')\n",
    "if rhoT.logscale:\n",
    "    plt.xscale('log')\n",
    "    plt.yscale('log')\n",
    "cbar = plt.colorbar()\n",
    "cbar.set_label(rhoT.colorlabel)\n",
    "plt.title('hist2d paicos, pcolormesh')\n",
    "plt.show()"
   ]
  }
 ],
 "metadata": {
  "kernelspec": {
   "display_name": "Python 3 (ipykernel)",
   "language": "python",
   "name": "python3"
  },
  "language_info": {
   "codemirror_mode": {
    "name": "ipython",
    "version": 3
   },
   "file_extension": ".py",
   "mimetype": "text/x-python",
   "name": "python",
   "nbconvert_exporter": "python",
   "pygments_lexer": "ipython3",
   "version": "3.10.12"
  }
 },
 "nbformat": 4,
 "nbformat_minor": 5
}
