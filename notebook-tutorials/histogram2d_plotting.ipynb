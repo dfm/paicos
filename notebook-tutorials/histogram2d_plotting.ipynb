{
 "cells": [
  {
   "cell_type": "markdown",
   "id": "8f23979d-1de7-44d5-b044-bf1ffa0a5eb9",
   "metadata": {},
   "source": [
    "# Loading a 2D histogram\n",
    "\n",
    "We can load the 2d histogram data saved in the histogram2d notebook. We then plot again, restoring the units and colorlabel."
   ]
  },
  {
   "cell_type": "code",
   "execution_count": null,
   "id": "073265ea-63a9-4033-8a5f-69c45a21abe6",
   "metadata": {},
   "outputs": [],
   "source": [
    "import paicos as pa\n",
    "\n",
    "# Load the histogram\n",
    "rhoB = pa.Histogram2DReader('.', 130, basename='rhoB_hist')"
   ]
  },
  {
   "cell_type": "code",
   "execution_count": null,
   "id": "8643b210-7450-4d16-86f8-5de72ef66432",
   "metadata": {},
   "outputs": [],
   "source": [
    "%matplotlib inline\n",
    "import matplotlib.pyplot as plt\n",
    "from matplotlib.colors import LogNorm\n",
    "\n",
    "### Copy-pasted plotting code from the other script\n",
    "\n",
    "plt.figure(1)\n",
    "plt.clf()\n",
    "\n",
    "# Convert to physical and some sensible units\n",
    "xvals = rhoB.centers_x.to_physical.to('g/cm3')  # xvals = rhoB.centers_x would give comoving code units.\n",
    "yvals = rhoB.centers_y.to_physical.to('uG') # yvals = rhoB.centers_y would give comoving code units.\n",
    "\n",
    "plt.pcolormesh(xvals.value, yvals.value,\n",
    "               rhoB.hist2d.value, norm=LogNorm())\n",
    "plt.xlabel(xvals.label('\\\\rho'))\n",
    "plt.ylabel(yvals.label('B'))\n",
    "\n",
    "plt.title('paicos Histogram2D')\n",
    "if rhoB.logscale:\n",
    "    plt.xscale('log')\n",
    "    plt.yscale('log')\n",
    "cbar = plt.colorbar()\n",
    "cbar.set_label(rhoB.colorlabel)\n",
    "plt.title('hist2d paicos, pcolormesh')\n",
    "plt.show()"
   ]
  }
 ],
 "metadata": {
  "kernelspec": {
   "display_name": "Python 3 (ipykernel)",
   "language": "python",
   "name": "python3"
  },
  "language_info": {
   "codemirror_mode": {
    "name": "ipython",
    "version": 3
   },
   "file_extension": ".py",
   "mimetype": "text/x-python",
   "name": "python",
   "nbconvert_exporter": "python",
   "pygments_lexer": "ipython3",
   "version": "3.10.8"
  }
 },
 "nbformat": 4,
 "nbformat_minor": 5
}
