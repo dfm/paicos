{
 "cells": [
  {
   "cell_type": "markdown",
   "id": "bcaf250a-51ec-45c2-bcbd-f24aaa1ccbba",
   "metadata": {},
   "source": [
    "# Using a time series"
   ]
  },
  {
   "cell_type": "code",
   "execution_count": null,
   "id": "f8781eaf-e21a-409e-9270-97647799e3e6",
   "metadata": {},
   "outputs": [],
   "source": [
    "import paicos as pa\n",
    "import numpy as np\n",
    "simfolder12 = '/llust21/cosmo-plasm/zoom-simulations/halo_0003/adiabatic-mhd/zoom12/'\n",
    "\n",
    "R_vec = []\n",
    "for snapnum in range(100, 248):\n",
    "    # We use the zoom12 catalog\n",
    "    cat = pa.Catalog(simfolder12 + 'output', snapnum)\n",
    "\n",
    "    # The center of the most massive Friends-of-friends group in the simulation\n",
    "    center = cat.Group['GroupPos'][0]\n",
    "    R200c = cat.Group['Group_R_Crit200'][0]\n",
    "    R_vec.append(R200c)"
   ]
  },
  {
   "cell_type": "code",
   "execution_count": null,
   "id": "02f89007-c669-429b-b7d0-d0ea7f998bfa",
   "metadata": {},
   "outputs": [],
   "source": [
    "R200c = pa.units.PaicosTimeSeries(R_vec)"
   ]
  },
  {
   "cell_type": "code",
   "execution_count": null,
   "id": "a33c74fa-fd93-444f-9397-d0add6294328",
   "metadata": {},
   "outputs": [],
   "source": [
    "R200c"
   ]
  },
  {
   "cell_type": "code",
   "execution_count": null,
   "id": "255d9ae9-32ad-4f7c-8221-b9e20b6195e0",
   "metadata": {},
   "outputs": [],
   "source": [
    "R200c.a"
   ]
  },
  {
   "cell_type": "code",
   "execution_count": null,
   "id": "44ac8ea4-4b79-4a83-a889-0f58c5d335ca",
   "metadata": {},
   "outputs": [],
   "source": [
    "R200c.z"
   ]
  },
  {
   "cell_type": "code",
   "execution_count": null,
   "id": "c415ba31-e35b-4295-933d-e83dbcdf53c2",
   "metadata": {},
   "outputs": [],
   "source": [
    "R200c.value"
   ]
  },
  {
   "cell_type": "code",
   "execution_count": null,
   "id": "4b1b521e-1023-455e-9fe9-0971a02bcbeb",
   "metadata": {},
   "outputs": [],
   "source": [
    "R200c.unit"
   ]
  },
  {
   "cell_type": "code",
   "execution_count": null,
   "id": "5a007027-4bc0-4097-9408-c1e03809eb83",
   "metadata": {},
   "outputs": [],
   "source": [
    "%matplotlib inline\n",
    "import matplotlib.pyplot as plt\n",
    "age = R200c.age(cat)\n",
    "fig, axes = plt.subplots(nrows=2, sharex=True)\n",
    "axes[0].plot(age, R200c.astro)\n",
    "axes[1].plot(age, R200c.to_physical.astro)\n",
    "axes[1].set_xlabel(age.label(r'\\mathrm{age}'))\n",
    "axes[0].set_ylabel(R200c.astro.label(r'R_\\mathrm{200c}'))\n",
    "axes[1].set_ylabel(R200c.to_physical.astro.label(r'R_\\mathrm{200c}'))"
   ]
  },
  {
   "cell_type": "markdown",
   "id": "ee8116a2-1ae1-40a5-bb4f-16b400b964a9",
   "metadata": {},
   "source": [
    "Saving this time series for later analysis/plotting"
   ]
  },
  {
   "cell_type": "code",
   "execution_count": null,
   "id": "900e688a-5375-472a-b391-ae29bf3f6ea0",
   "metadata": {},
   "outputs": [],
   "source": [
    "f = pa.PaicosTimeSeriesWriter(cat, '.', basename='time_series')\n",
    "\n",
    "# Write the time series to file\n",
    "f.write_data('R200c', R200c)\n",
    "f.finalize()"
   ]
  },
  {
   "cell_type": "code",
   "execution_count": null,
   "id": "0bf50efe-899b-4093-98b1-59297cdf98f0",
   "metadata": {},
   "outputs": [],
   "source": [
    "f.filename"
   ]
  },
  {
   "cell_type": "markdown",
   "id": "a451160a-5d4b-46c9-a75a-ee77d2f87a8b",
   "metadata": {},
   "source": [
    "Read this time series"
   ]
  },
  {
   "cell_type": "code",
   "execution_count": null,
   "id": "cba6232e-c821-43df-a31a-b7bbc195c9c8",
   "metadata": {},
   "outputs": [],
   "source": [
    "ser = pa.PaicosReader(\".\", basename=\"paicos_time_series\")"
   ]
  },
  {
   "cell_type": "markdown",
   "id": "d6da247e-3616-4381-8b3d-e103dd522baa",
   "metadata": {},
   "source": [
    "Delete all reference to the old data and redo the plot"
   ]
  },
  {
   "cell_type": "code",
   "execution_count": null,
   "id": "f5d7b8b8-56cb-4a4a-9339-f081d329e833",
   "metadata": {},
   "outputs": [],
   "source": [
    "del R200c, cat\n",
    "R200c = ser['R200c']\n",
    "cat = ser"
   ]
  },
  {
   "cell_type": "code",
   "execution_count": null,
   "id": "90e736a5-07df-4f0c-81d3-005272fa09ad",
   "metadata": {},
   "outputs": [],
   "source": [
    "%matplotlib inline\n",
    "import matplotlib.pyplot as plt\n",
    "age = R200c.age(cat)\n",
    "fig, axes = plt.subplots(nrows=2, sharex=True)\n",
    "axes[0].plot(age, R200c.astro)\n",
    "axes[1].plot(age, R200c.to_physical.astro)\n",
    "axes[1].set_xlabel(age.label(r'\\mathrm{age}'))\n",
    "axes[0].set_ylabel(R200c.astro.label(r'R_\\mathrm{200c}'))\n",
    "axes[1].set_ylabel(R200c.to_physical.astro.label(r'R_\\mathrm{200c}'))"
   ]
  },
  {
   "cell_type": "code",
   "execution_count": null,
   "id": "5f68d1c2-78f6-4d75-9350-3e971a97371c",
   "metadata": {},
   "outputs": [],
   "source": []
  }
 ],
 "metadata": {
  "kernelspec": {
   "display_name": "Python 3 (ipykernel)",
   "language": "python",
   "name": "python3"
  },
  "language_info": {
   "codemirror_mode": {
    "name": "ipython",
    "version": 3
   },
   "file_extension": ".py",
   "mimetype": "text/x-python",
   "name": "python",
   "nbconvert_exporter": "python",
   "pygments_lexer": "ipython3",
   "version": "3.10.8"
  }
 },
 "nbformat": 4,
 "nbformat_minor": 5
}
