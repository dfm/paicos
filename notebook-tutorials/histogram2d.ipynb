{
 "cells": [
  {
   "cell_type": "markdown",
   "id": "59202ff1-ac2e-41b2-8eb3-b314a0a6af12",
   "metadata": {},
   "source": [
    "# Notebook 3a: Creating 2D Histograms\n",
    "\n",
    "Here we show how to create a 2D histogram, how to plot it and how to save it for later plotting. We start with a\n",
    "2D histogram of the density/magnetic field phase space (note that this low resolution simulation is not converged in magnetic field strength)."
   ]
  },
  {
   "cell_type": "code",
   "execution_count": null,
   "id": "9fa53db4-577e-41fa-ae98-37800c92f52e",
   "metadata": {},
   "outputs": [],
   "source": [
    "import paicos as pa\n",
    "import numpy as np\n",
    "\n",
    "# A snapshot object\n",
    "snap = pa.Snapshot(pa.data_dir, 247, load_catalog=False)\n",
    "\n",
    "# Create histogram\n",
    "rhoB = pa.Histogram2D(snap, '0_Density', '0_MagneticFieldStrength', weights='0_Masses', bins_x=200,\n",
    "                      bins_y=200, logscale=True)\n",
    "\n",
    "# Create colorlabel\n",
    "colorlabel = rhoB.get_colorlabel(r'\\rho', 'B', 'M')"
   ]
  },
  {
   "cell_type": "markdown",
   "id": "c44e1ae9-a594-45ea-ad52-875b242fa747",
   "metadata": {},
   "source": [
    "We can check the Histogram2D doc string for details on the options"
   ]
  },
  {
   "cell_type": "code",
   "execution_count": null,
   "id": "f94414b5-a893-4b0f-9252-4bb6af559748",
   "metadata": {},
   "outputs": [],
   "source": [
    "pa.Histogram2D?"
   ]
  },
  {
   "cell_type": "markdown",
   "id": "81c0f5e0-7abe-49e6-990b-45940eb817dc",
   "metadata": {},
   "source": [
    "## Plotting the histogram\n",
    "We are now ready to make a plot."
   ]
  },
  {
   "cell_type": "code",
   "execution_count": null,
   "id": "f6831953-be32-46f4-a4e4-851f1fb1e500",
   "metadata": {},
   "outputs": [],
   "source": [
    "%matplotlib inline\n",
    "import matplotlib.pyplot as plt\n",
    "from matplotlib.colors import LogNorm\n",
    "\n",
    "\n",
    "# Make a quick plot\n",
    "plt.figure(1)\n",
    "plt.clf()\n",
    "\n",
    "# Convert to physical and some sensible units\n",
    "xvals = rhoB.centers_x.to_physical.to('g/cm3')  # xvals = rhoB.centers_x would give comoving code units.\n",
    "yvals = rhoB.centers_y.to_physical.to('uG') # yvals = rhoB.centers_y would give comoving code units.\n",
    "\n",
    "plt.pcolormesh(xvals.value, yvals.value,\n",
    "               rhoB.hist2d.value, norm=LogNorm())\n",
    "plt.xlabel(xvals.label('\\\\rho'))\n",
    "plt.ylabel(yvals.label('B'))\n",
    "\n",
    "plt.title('paicos Histogram2D')\n",
    "if rhoB.logscale:\n",
    "    plt.xscale('log')\n",
    "    plt.yscale('log')\n",
    "cbar = plt.colorbar()\n",
    "cbar.set_label(rhoB.colorlabel)\n",
    "plt.title('hist2d paicos, pcolormesh')\n",
    "plt.show()"
   ]
  },
  {
   "cell_type": "markdown",
   "id": "d5ba8dfb-714d-4402-9750-e914c892c8b9",
   "metadata": {},
   "source": [
    "## Density vs temperature histogram\n",
    "Let's do a density Temperature plot as well"
   ]
  },
  {
   "cell_type": "code",
   "execution_count": null,
   "id": "50bb57a2-a0fc-407a-8dc8-0105768a6173",
   "metadata": {},
   "outputs": [],
   "source": [
    "%matplotlib inline\n",
    "import matplotlib.pyplot as plt\n",
    "from matplotlib.colors import LogNorm\n",
    "\n",
    "# Create histogram\n",
    "hist = pa.Histogram2D(snap, '0_Density', '0_Temperatures', weights='0_Masses', bins_x=200,\n",
    "                      bins_y=200, logscale=True)\n",
    "\n",
    "# Create colorlabel\n",
    "colorlabel = hist.get_colorlabel(r'\\rho', 'T', 'M')\n",
    "\n",
    "# Convert to physical and some sensible units\n",
    "xvals = hist.centers_x.to_physical.to('g/cm3')  # xvals = hist.centers_x would give comoving code units.\n",
    "yvals = hist.centers_y\n",
    "\n",
    "# Make a quick plot\n",
    "plt.figure(1)\n",
    "plt.clf()\n",
    "\n",
    "plt.pcolormesh(xvals.value, yvals.value,\n",
    "               hist.hist2d.value, norm=LogNorm())\n",
    "plt.xlabel(xvals.label('\\\\rho'))\n",
    "plt.ylabel(yvals.label('T'))\n",
    "\n",
    "plt.title('paicos Histogram2D')\n",
    "if hist.logscale:\n",
    "    plt.xscale('log')\n",
    "    plt.yscale('log')\n",
    "cbar = plt.colorbar()\n",
    "cbar.set_label(hist.colorlabel)\n",
    "plt.title('hist2d paicos, pcolormesh')\n",
    "plt.show()"
   ]
  },
  {
   "cell_type": "markdown",
   "id": "46137a14-5b9d-428d-bf6e-12279051ba3f",
   "metadata": {},
   "source": [
    "## Saving a histogram\n",
    "\n",
    "Here we save the density/temperature histogram so that we may later plot it (see notebook 3b)"
   ]
  },
  {
   "cell_type": "code",
   "execution_count": null,
   "id": "f47a3e96-6976-44be-88a3-5a761c591229",
   "metadata": {},
   "outputs": [],
   "source": [
    "# Save the histogram\n",
    "hist.save(basedir=pa.data_dir, basename='rhoT_hist')"
   ]
  }
 ],
 "metadata": {
  "kernelspec": {
   "display_name": "Python 3 (ipykernel)",
   "language": "python",
   "name": "python3"
  },
  "language_info": {
   "codemirror_mode": {
    "name": "ipython",
    "version": 3
   },
   "file_extension": ".py",
   "mimetype": "text/x-python",
   "name": "python",
   "nbconvert_exporter": "python",
   "pygments_lexer": "ipython3",
   "version": "3.10.12"
  }
 },
 "nbformat": 4,
 "nbformat_minor": 5
}
