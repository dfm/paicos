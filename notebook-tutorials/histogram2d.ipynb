{
 "cells": [
  {
   "cell_type": "markdown",
   "id": "59202ff1-ac2e-41b2-8eb3-b314a0a6af12",
   "metadata": {},
   "source": [
    "# 2D Histograms\n",
    "\n",
    "We start this example by loading in a large galaxy cluster and selecting all the gas cells inside R200c."
   ]
  },
  {
   "cell_type": "code",
   "execution_count": null,
   "id": "2093fefd-9816-4280-9c2c-7298c0118fb1",
   "metadata": {},
   "outputs": [],
   "source": [
    "import paicos as pa\n",
    "import numpy as np\n",
    "simfolder12 = '/llust21/cosmo-plasm/zoom-simulations/halo_0003/adiabatic-mhd/zoom12/'\n",
    "simfolder24 = '/llust21/cosmo-plasm/zoom-simulations/halo_0003/adiabatic-mhd/zoom24/'\n",
    "\n",
    "# A snapshot object\n",
    "snap = pa.Snapshot(simfolder12 + 'output', 130, load_catalog=False)\n",
    "\n",
    "# We use the zoom12 catalog\n",
    "cat = pa.Catalog(simfolder12 + 'output', 130)\n",
    "\n",
    "# The center of the most massive Friends-of-friends group in the simulation\n",
    "center = cat.Group['GroupPos'][0]\n",
    "R200c = cat.Group['Group_R_Crit200'][0]"
   ]
  },
  {
   "cell_type": "code",
   "execution_count": null,
   "id": "225681fd-080b-47ef-a6bd-376af9658ce0",
   "metadata": {},
   "outputs": [],
   "source": [
    "# Use OpenMP parallel Cython code\n",
    "index = pa.util.get_index_of_radial_range(snap['0_Coordinates'],\n",
    "                                          center, 0., R200c)\n",
    "\n",
    "# Create a new snap object which only contains the index above\n",
    "snap = snap.select(index)"
   ]
  },
  {
   "cell_type": "markdown",
   "id": "8ec3db3e-4466-42f8-a24a-c81e44ba982a",
   "metadata": {},
   "source": [
    "We then create the 2D histogram."
   ]
  },
  {
   "cell_type": "code",
   "execution_count": null,
   "id": "2c142e19-fe27-47f8-affe-3ca53fe6d59f",
   "metadata": {},
   "outputs": [],
   "source": [
    "# Create histogram\n",
    "rhoB = pa.Histogram2D(snap, '0_Density', '0_MagneticFieldStrength', weights='0_Masses', bins_x=200,\n",
    "                      bins_y=200, logscale=True)\n",
    "\n",
    "# Create colorlabel\n",
    "colorlabel = rhoB.get_colorlabel(r'\\rho', 'B', 'M')"
   ]
  },
  {
   "cell_type": "markdown",
   "id": "c44e1ae9-a594-45ea-ad52-875b242fa747",
   "metadata": {},
   "source": [
    "We can check the Histogram2D doc string for details on the options"
   ]
  },
  {
   "cell_type": "code",
   "execution_count": null,
   "id": "f94414b5-a893-4b0f-9252-4bb6af559748",
   "metadata": {},
   "outputs": [],
   "source": [
    "pa.Histogram2D?"
   ]
  },
  {
   "cell_type": "markdown",
   "id": "81c0f5e0-7abe-49e6-990b-45940eb817dc",
   "metadata": {},
   "source": [
    "We are now ready to make a plot."
   ]
  },
  {
   "cell_type": "code",
   "execution_count": null,
   "id": "f6831953-be32-46f4-a4e4-851f1fb1e500",
   "metadata": {},
   "outputs": [],
   "source": [
    "%matplotlib inline\n",
    "import matplotlib.pyplot as plt\n",
    "from matplotlib.colors import LogNorm\n",
    "\n",
    "\n",
    "# Make a quick plot\n",
    "plt.figure(1)\n",
    "plt.clf()\n",
    "\n",
    "# Convert to physical and some sensible units\n",
    "xvals = rhoB.centers_x.to_physical.to('g/cm3')  # xvals = rhoB.centers_x would give comoving code units.\n",
    "yvals = rhoB.centers_y.to_physical.to('uG') # yvals = rhoB.centers_y would give comoving code units.\n",
    "\n",
    "plt.pcolormesh(xvals.value, yvals.value,\n",
    "               rhoB.hist2d.value, norm=LogNorm())\n",
    "plt.xlabel(xvals.label('\\\\rho'))\n",
    "plt.ylabel(yvals.label('B'))\n",
    "\n",
    "plt.title('paicos Histogram2D')\n",
    "if rhoB.logscale:\n",
    "    plt.xscale('log')\n",
    "    plt.yscale('log')\n",
    "cbar = plt.colorbar()\n",
    "cbar.set_label(rhoB.colorlabel)\n",
    "plt.title('hist2d paicos, pcolormesh')\n",
    "plt.show()"
   ]
  },
  {
   "cell_type": "markdown",
   "id": "481c7b34-d6dc-4c57-bd14-4110ff7ef0d8",
   "metadata": {},
   "source": [
    "Let's save the data for later plotting"
   ]
  },
  {
   "cell_type": "code",
   "execution_count": null,
   "id": "2424935f-2353-4a2b-8066-a3d61362f041",
   "metadata": {},
   "outputs": [],
   "source": [
    "rhoB.save(basedir='.', basename='rhoB_hist')"
   ]
  },
  {
   "cell_type": "markdown",
   "id": "d5ba8dfb-714d-4402-9750-e914c892c8b9",
   "metadata": {},
   "source": [
    "Let's do a density Temperature plot as well"
   ]
  },
  {
   "cell_type": "code",
   "execution_count": null,
   "id": "50bb57a2-a0fc-407a-8dc8-0105768a6173",
   "metadata": {},
   "outputs": [],
   "source": [
    "%matplotlib inline\n",
    "import matplotlib.pyplot as plt\n",
    "from matplotlib.colors import LogNorm\n",
    "\n",
    "# Create histogram\n",
    "hist = pa.Histogram2D(snap, '0_Density', '0_Temperatures', weights='0_Masses', bins_x=200,\n",
    "                      bins_y=200, logscale=True)\n",
    "\n",
    "# Create colorlabel\n",
    "colorlabel = hist.get_colorlabel(r'\\rho', 'T', 'M')\n",
    "\n",
    "# Convert to physical and some sensible units\n",
    "xvals = hist.centers_x.to_physical.to('g/cm3')  # xvals = hist.centers_x would give comoving code units.\n",
    "yvals = hist.centers_y\n",
    "\n",
    "# Make a quick plot\n",
    "plt.figure(1)\n",
    "plt.clf()\n",
    "\n",
    "plt.pcolormesh(xvals.value, yvals.value,\n",
    "               hist.hist2d.value, norm=LogNorm())\n",
    "plt.xlabel(xvals.label('\\\\rho'))\n",
    "plt.ylabel(yvals.label('T'))\n",
    "\n",
    "plt.title('paicos Histogram2D')\n",
    "if hist.logscale:\n",
    "    plt.xscale('log')\n",
    "    plt.yscale('log')\n",
    "cbar = plt.colorbar()\n",
    "cbar.set_label(hist.colorlabel)\n",
    "plt.title('hist2d paicos, pcolormesh')\n",
    "plt.show()"
   ]
  }
 ],
 "metadata": {
  "kernelspec": {
   "display_name": "Python 3 (ipykernel)",
   "language": "python",
   "name": "python3"
  },
  "language_info": {
   "codemirror_mode": {
    "name": "ipython",
    "version": 3
   },
   "file_extension": ".py",
   "mimetype": "text/x-python",
   "name": "python",
   "nbconvert_exporter": "python",
   "pygments_lexer": "ipython3",
   "version": "3.10.8"
  }
 },
 "nbformat": 4,
 "nbformat_minor": 5
}
