{
 "cells": [
  {
   "cell_type": "markdown",
   "id": "43b2f4ef-c9c3-46ce-b4b2-a822c3600e11",
   "metadata": {},
   "source": [
    "# Notebook 1: Examples of using Paicos\n",
    "\n",
    "This script shows how to\n",
    "\n",
    "- load data\n",
    "- make projections and slices\n",
    "- save them as an 'ArepoImage'\n",
    "- how to convert the Arepo data from comoving code units to physical values in various unit systems\n"
   ]
  },
  {
   "cell_type": "markdown",
   "id": "b5ffecf2-3b1f-4616-b394-2b181c0dd874",
   "metadata": {},
   "source": [
    "## Compilation\n",
    "The first step is to compile the code, this only needs to be done the first time you use Paicos and if you have not already followed the installation instructions (replace the path to your own cloned version, you will also need to add this path to your PYTHONPATH)."
   ]
  },
  {
   "cell_type": "code",
   "execution_count": null,
   "id": "8dd135d5-5106-419c-9a56-7211e0790c5a",
   "metadata": {},
   "outputs": [],
   "source": [
    "#%%bash\n",
    "#cd ~/projects/paicos\n",
    "#make clean\n",
    "#make"
   ]
  },
  {
   "cell_type": "markdown",
   "id": "76db5702-5cb4-433e-af1a-8eef178e9116",
   "metadata": {},
   "source": [
    "## Loading arepo snapshots\n",
    "\n",
    "We load a zoom-in simulation of a galaxy cluster simulation below (the data is not included in the repo, so you will need to download this. See documentation)"
   ]
  },
  {
   "cell_type": "code",
   "execution_count": null,
   "id": "96daabc9-0510-4667-ac79-f9c3def959a7",
   "metadata": {},
   "outputs": [],
   "source": [
    "import paicos as pa\n",
    "import numpy as np\n",
    "\n",
    "# A snapshot object\n",
    "snap = pa.Snapshot(pa.data_dir, 247)\n",
    "\n",
    "# The center of the most massive Friends-of-friends group in the simulation\n",
    "center = snap.Cat.Group['GroupPos'][0]"
   ]
  },
  {
   "cell_type": "markdown",
   "id": "0f4c6c0f-1115-404f-bd5b-b834b3dbee34",
   "metadata": {},
   "source": [
    "## Useful metadata\n",
    "We can look at some of snap attributes:"
   ]
  },
  {
   "cell_type": "code",
   "execution_count": null,
   "id": "3ed9bfa3-58e8-4dce-88ef-ae6741ce9861",
   "metadata": {},
   "outputs": [],
   "source": [
    "# Age of the Universe for the snapshot\n",
    "snap.age"
   ]
  },
  {
   "cell_type": "code",
   "execution_count": null,
   "id": "38046640-529d-4ba5-8319-1b662c9c8936",
   "metadata": {},
   "outputs": [],
   "source": [
    "# The lookback time\n",
    "snap.lookback_time"
   ]
  },
  {
   "cell_type": "code",
   "execution_count": null,
   "id": "9f46dcfc-c85f-45d3-8e47-ef08c7362f87",
   "metadata": {},
   "outputs": [],
   "source": [
    "# An astropy cosmology object (used internally to calculate the age and lookback, \n",
    "# cosmological parameters automatically loaded from the the snapshot)\n",
    "snap.cosmo"
   ]
  },
  {
   "cell_type": "code",
   "execution_count": null,
   "id": "e4a3a772-6853-4c89-8f5b-1aa2943eebcf",
   "metadata": {},
   "outputs": [],
   "source": [
    "# The size of the computational box\n",
    "snap.box_size.to('Mpc').to_physical"
   ]
  },
  {
   "cell_type": "code",
   "execution_count": null,
   "id": "964e9fd6-4f9e-404d-8cc7-8e554d6d5757",
   "metadata": {},
   "outputs": [],
   "source": [
    "# The redshift\n",
    "snap.z"
   ]
  },
  {
   "cell_type": "code",
   "execution_count": null,
   "id": "9946206e-e204-48a8-82d4-d22c35a5c122",
   "metadata": {},
   "outputs": [],
   "source": [
    "# Adiabatic index used in the simulation\n",
    "snap.gamma"
   ]
  },
  {
   "cell_type": "code",
   "execution_count": null,
   "id": "837caf67-6b26-4f53-bb07-a43ee3996088",
   "metadata": {},
   "outputs": [],
   "source": [
    "# Contents of the three hdf5 groups containing information about the snapshot (uncomment to see output)\n",
    "#snap.Header\n",
    "#snap.Parameters\n",
    "#snap.Config"
   ]
  },
  {
   "cell_type": "markdown",
   "id": "549c98a1-2eca-440c-9185-ccfcff2e60b3",
   "metadata": {},
   "source": [
    "## Loading of data blocks\n",
    "Loading of data can be done using function calls or by trying to access them explicitly.\n",
    "Here we load the Arepo data as a PaicosQuantity (basically a subclass of an astropy quantity), which gives the numeric data units and some useful methods. The numeric values are the same as stored in the hdf5 files but we can now see the units used in the simulation. Here small_h and small_a are the reduced Hubble parameter and the scale factor, respectively. "
   ]
  },
  {
   "cell_type": "code",
   "execution_count": null,
   "id": "f926a39f-0967-49ca-837c-18bf0e57e3ab",
   "metadata": {},
   "outputs": [],
   "source": [
    "# Load some variables from the PartType 0 (gas variables) \n",
    "\n",
    "# You can explicitly load using function call:\n",
    "snap.load_data(0, 'Coordinates')\n",
    "snap['0_Coordinates']\n",
    "\n",
    "# But is much easier to just do it like this:\n",
    "snap['0_Density']\n",
    "snap['0_MagneticField']\n",
    "\n",
    "# snap\n",
    "snap['0_Volume']"
   ]
  },
  {
   "cell_type": "code",
   "execution_count": null,
   "id": "f52ce07c-2299-47cc-8590-9652b1e2a3a2",
   "metadata": {},
   "outputs": [],
   "source": [
    "# The available fields for a PartType can be found as shown below for parttype 0 (the gas)\n",
    "keys = snap.info(0)\n",
    "\n",
    "# alternatively, by starting to type and using tab-completion, i.e., snap['0_  and then hit tab"
   ]
  },
  {
   "cell_type": "markdown",
   "id": "456c560a-7fc5-4ca5-9f35-20058473a01b",
   "metadata": {},
   "source": [
    "## Unit conversion \n",
    "Here we show how to use convert the density field to various useful physical units and\n",
    "how to get rid of the a and h factors used in cosmological simulations with Arepo."
   ]
  },
  {
   "cell_type": "code",
   "execution_count": null,
   "id": "3aba6d3e-69dd-4091-b575-a5633a593b9e",
   "metadata": {},
   "outputs": [],
   "source": [
    "# Unit conversion\n",
    "rho = snap['0_Density']\n",
    "print('rho[0] in CGS:\\t', rho[0].cgs)\n",
    "print('rho[0] in SI:\\t', rho[0].si)\n",
    "print(\"rho[0] in 'astro' units:\\t\", rho[0].astro)\n",
    "print(\"rho[0] in Msun/au^3:\\t\", rho[0].to('Msun/au3'), '\\n\\n')\n",
    "\n",
    "# Get rid of h factors\n",
    "print('rho[0] without h:\\t', rho[0].no_small_h)\n",
    "\n",
    "# Get rid of both a and h factors\n",
    "print('rho[0] without a and h:\\t', rho[0].to_physical, '\\n\\n')\n",
    "\n",
    "# Get a label for use in plots\n",
    "print(rho.label(r'\\rho'))\n",
    "print(rho.astro.label(r'\\rho'))"
   ]
  },
  {
   "cell_type": "markdown",
   "id": "5c087972-3d83-408a-9913-f2c360dfb752",
   "metadata": {},
   "source": [
    "### Changing the units in a PaicosQuantity\n",
    "Please note that the methods above return a new object without modifying the original data. Modification can be done by overwriting, e.g., like this:"
   ]
  },
  {
   "cell_type": "code",
   "execution_count": null,
   "id": "68e6810d-4344-4243-861d-112fe9ac10ae",
   "metadata": {},
   "outputs": [],
   "source": [
    "rho = rho.to_physical\n",
    "rho"
   ]
  },
  {
   "cell_type": "markdown",
   "id": "e1dccf2b-417e-45e6-8ab4-5cb520e5143a",
   "metadata": {},
   "source": [
    "### Getting rid of units\n",
    "\n",
    "The PaicosQuantity uses the astropy quantity internally, which again uses numpy arrays.\n",
    "In case you are not familiar with astropy: Here is how you can access the unit and numeric values independently like this: "
   ]
  },
  {
   "cell_type": "code",
   "execution_count": null,
   "id": "153ebf1e-f8b9-4ae9-8c4f-a1ba3bf2af7d",
   "metadata": {},
   "outputs": [],
   "source": [
    "# The unit\n",
    "rho.unit"
   ]
  },
  {
   "cell_type": "code",
   "execution_count": null,
   "id": "fc11b0ad-4f57-4aef-aaf7-963fbb88e007",
   "metadata": {},
   "outputs": [],
   "source": [
    "# The numeric values (a numpy array)\n",
    "rho.value"
   ]
  },
  {
   "cell_type": "markdown",
   "id": "642852e7-05c0-4114-9191-7dc44de91f0c",
   "metadata": {},
   "source": [
    "## Automatically computing derived variables\n",
    "Here we show how Paicos can automatically compute derived variables.\n",
    "Paicos gives information about what is happening under the hood\n",
    "\n",
    "This feature can be turned off by setting\n",
    "\n",
    "```\n",
    "pa.settings.use_only_user_functions = True\n",
    "```\n",
    "but we note that changes to `pa.settings.use_only_user_functions` only take effect for freshly loaded snapshots."
   ]
  },
  {
   "cell_type": "code",
   "execution_count": null,
   "id": "7d937ab7-38a4-450d-9d1f-c3e61b6c17b8",
   "metadata": {},
   "outputs": [],
   "source": [
    "# The gas cell volumes (per default Arepo only outputs the gas mass and density)\n",
    "snap['0_Volume']\n",
    "\n",
    "# The gas temperature times the cell gas mass\n",
    "snap['0_TemperaturesTimesMasses']\n",
    "\n",
    "# The gas enstrophy\n",
    "snap['0_Enstrophy']"
   ]
  },
  {
   "cell_type": "markdown",
   "id": "56fe2809-9b55-4227-a626-9ba4aef1147c",
   "metadata": {},
   "source": [
    "The console output can be turned off by setting\n",
    "```\n",
    "pa.settings.print_info_when_deriving_variables = False\n",
    "```\n",
    "This is illustrated below where no information is printed:"
   ]
  },
  {
   "cell_type": "code",
   "execution_count": null,
   "id": "5f146ddf-fad5-4037-9969-a0912edf0345",
   "metadata": {},
   "outputs": [],
   "source": [
    "# Turn off info\n",
    "pa.settings.print_info_when_deriving_variables = False\n",
    "\n",
    "# The metallicity multiplied by the mass\n",
    "snap['0_GFM_MetallicityTimesMasses']\n",
    "\n",
    "# Turn info back on\n",
    "pa.settings.print_info_when_deriving_variables = True"
   ]
  },
  {
   "cell_type": "markdown",
   "id": "8a80291a-21c0-4236-9754-fd1ad38a0240",
   "metadata": {},
   "source": [
    "## Making projections\n",
    "\n",
    "We now use the Paicos projector class, the 'widths' vector is the size of the considered box in x,y,z coordinates. This box is centered at 'center' vector.\n",
    "\n",
    "The direction can be set to 'x', 'y' or 'z'. If the direction is 'z' (as below) then widths[2] is the depth of the projection and the 2D returned array is in the xy plane.\n",
    "\n",
    "npix is the number of pixels in the horizontal direction of the image. The width/height ratio should be such that $$npix*height/width$$ is an integer, such that the image pixels are square."
   ]
  },
  {
   "cell_type": "code",
   "execution_count": null,
   "id": "2d8c59e9-d78a-4e0f-9f6b-76d5350fbfdd",
   "metadata": {},
   "outputs": [],
   "source": [
    "# The widths of the subbox to be projected\n",
    "widths = [26000, 13000, 10000]\n",
    "\n",
    "# Create a projector object\n",
    "projector = pa.Projector(snap, center, widths, 'z', npix=2048)\n",
    "\n",
    "# Let's look at its docstring\n",
    "projector?"
   ]
  },
  {
   "cell_type": "markdown",
   "id": "1aec40de-356b-4af5-ae4f-b23a561be52f",
   "metadata": {},
   "source": [
    "### Calling project_variable\n",
    "We can call the project_variable method as below. This method can take a number of standard strings (which then internally calls the get_variable function, see further details below) or it can take an array. Both methods are shown below."
   ]
  },
  {
   "cell_type": "code",
   "execution_count": null,
   "id": "4211098e-f161-4097-999a-9f7b0e69ca38",
   "metadata": {},
   "outputs": [],
   "source": [
    "Masses = projector.project_variable('0_Masses')\n",
    "Volumes = projector.project_variable(snap['0_Volume'])\n",
    "rho = Masses/Volumes\n",
    "\n",
    "rho"
   ]
  },
  {
   "cell_type": "markdown",
   "id": "b515805a-f521-43ae-8714-6fdb8d3991ff",
   "metadata": {},
   "source": [
    "We can now plot the projected density"
   ]
  },
  {
   "cell_type": "code",
   "execution_count": null,
   "id": "9ac3bf07-f6ce-46c8-8295-f9dc9fe0b69e",
   "metadata": {},
   "outputs": [],
   "source": [
    "%matplotlib inline\n",
    "import matplotlib.pyplot as plt\n",
    "from matplotlib.colors import LogNorm\n",
    "plt.rc('image', origin='lower', cmap='RdBu_r', interpolation='None')\n",
    "plt.imshow(rho.value, cmap='YlGnBu', extent=projector.extent.value, norm=LogNorm())"
   ]
  },
  {
   "cell_type": "markdown",
   "id": "30b34f87-aa4d-4b9b-be30-c192e30a5207",
   "metadata": {},
   "source": [
    "The projector object contains a number of useful attributes with mostly self-explanatory names:"
   ]
  },
  {
   "cell_type": "code",
   "execution_count": null,
   "id": "b0744a26-907e-4d59-a34d-c0088b154027",
   "metadata": {},
   "outputs": [],
   "source": [
    "# Widths (same as user input)\n",
    "projector.widths\n",
    "\n",
    "# Volume of the subbox\n",
    "projector.volume\n",
    "\n",
    "# Area per pixel\n",
    "projector.area_per_pixel\n",
    "\n",
    "# Volume per pixel\n",
    "projector.volume_per_pixel\n",
    "\n",
    "# Center of the image (same as user input)\n",
    "projector.center\n",
    "\n",
    "# Depth of the projection\n",
    "projector.depth\n",
    "\n",
    "# Height of the image (i.e. along the vertical direction of the image)\n",
    "projector.height\n",
    "\n",
    "# Width of the image (i.e. along the horizontal direction of the image)\n",
    "projector.width\n",
    "\n",
    "# For use in the matplotlib argument extent\n",
    "projector.extent\n",
    "\n",
    "# For centering the image such that its center is at (0, 0).\n",
    "projector.centered_extent \n",
    "\n",
    "# E.g. a centered image is created like this\n",
    "plt.imshow(rho.value, cmap='YlGnBu', extent=projector.centered_extent.value, norm=LogNorm())\n"
   ]
  },
  {
   "cell_type": "markdown",
   "id": "c9dd6da5-bad4-4e61-9d02-e11766ee8e4c",
   "metadata": {},
   "source": [
    "## Making slices\n",
    "\n",
    "Next, we will take a look at making a slice through the simulation. The width is by definition zero, and the user has to set this explicitly by setting a zero in the 'widths' vector. Below we show a slice of density, comparing with the projected density."
   ]
  },
  {
   "cell_type": "code",
   "execution_count": null,
   "id": "9c6df2b9-000b-485d-a9d5-65dcbffa366b",
   "metadata": {},
   "outputs": [],
   "source": [
    "widths = [26000, 13000, 0]\n",
    "slicer = pa.Slicer(snap, center, widths, 'z', npix=2048)"
   ]
  },
  {
   "cell_type": "code",
   "execution_count": null,
   "id": "5fead735-e7b6-4cbb-b2af-33b7d393b3de",
   "metadata": {},
   "outputs": [],
   "source": [
    "plt.figure(1)\n",
    "plt.clf()\n",
    "fix, axes = plt.subplots(nrows=2)\n",
    "\n",
    "# Slice by passing an array\n",
    "rho_slice = slicer.slice_variable(snap['0_Density'])\n",
    "\n",
    "# Slice by passing a string (see snap.info(0) for the available strings)\n",
    "rho_slice = slicer.slice_variable('0_Density')\n",
    "\n",
    "# Now plot slice and projection next to each other\n",
    "axes[0].imshow(rho_slice.to_physical.value, norm=LogNorm())\n",
    "axes[1].imshow(rho.value, norm=LogNorm())\n",
    "axes[0].set_title('Slice')\n",
    "axes[1].set_title('Projected')\n",
    "for ii in range(2):\n",
    "    axes[ii].set_axis_off()\n",
    "# plt.savefig('halo3_Z12_slice_projec_comparison.pdf', dpi=2000, bbox_inches='tight')"
   ]
  },
  {
   "cell_type": "markdown",
   "id": "6e67f5ce-fa6a-489e-af2a-de9a674054ab",
   "metadata": {},
   "source": [
    "We can also make slices of other variables. The Slicer object stores the required information (indices of the Voronoi cells closest to the image grid points), so the computing time needed for making additional slices is neglibible.\n",
    "\n",
    "Let us for instance consider the enstrophy which gives an indication of the amount of turbulence in the galaxy cluster.\n",
    "It is defined as\n",
    "\n",
    "1/2|∇×v|²\n",
    "\n",
    "and can be found from the 'VelocityGradient' field (the 3x3 tensor of velocity derivatives, ∂ᵢvⱼ, which is stored in the example Arepo snapshot). This is done internally below:"
   ]
  },
  {
   "cell_type": "code",
   "execution_count": null,
   "id": "62492c02-669f-4c00-b33e-6c04cd1a929c",
   "metadata": {},
   "outputs": [],
   "source": [
    "extent = slicer.extent.to('Mpc')\n",
    "\n",
    "plt.imshow(slicer.slice_variable('0_Enstrophy').value,\n",
    "           extent=extent.value,\n",
    "           norm=LogNorm())"
   ]
  },
  {
   "cell_type": "markdown",
   "id": "6a7d496b-633c-4ffd-89d4-6397f5e08c60",
   "metadata": {},
   "source": [
    "## Storing image data\n",
    "\n",
    "The computing time for slices, and in particular, projections, is often quite long. It is therefore convenient to be able to store the image data so that this step is de-coupled from the often many matplotlib iterations.\n",
    "\n",
    "Below we illustrate how to save an Arepo image, created using either a Projector or Slicer object."
   ]
  },
  {
   "cell_type": "code",
   "execution_count": null,
   "id": "b40db898-31d8-4422-9730-76a933b446b4",
   "metadata": {},
   "outputs": [],
   "source": [
    "image_file = pa.ArepoImage(slicer, basedir=pa.data_dir,\n",
    "                           basename='test_arepo_image_format')\n",
    "\n",
    "image_file.save_image('Density', slicer.slice_variable('0_Density'))\n",
    "image_file.save_image('Enstrophy', slicer.slice_variable('0_Enstrophy'))\n",
    "\n",
    "image_file.finalize()"
   ]
  },
  {
   "cell_type": "markdown",
   "id": "40cf63cb-b1bb-4beb-b6f7-561cb28a641e",
   "metadata": {},
   "source": [
    "The constructed file is found at:"
   ]
  },
  {
   "cell_type": "code",
   "execution_count": null,
   "id": "de6f3c71-b77e-4953-85d1-af8099322c8a",
   "metadata": {},
   "outputs": [],
   "source": [
    "image_file.filename"
   ]
  },
  {
   "cell_type": "markdown",
   "id": "adcfa4e7-96a5-44a2-bef1-22e59c48a887",
   "metadata": {},
   "source": [
    "Now lets open this image and looks at its contents:"
   ]
  },
  {
   "cell_type": "code",
   "execution_count": null,
   "id": "0303d29a-6235-489a-a5e0-9e4a0d20f3c9",
   "metadata": {},
   "outputs": [],
   "source": [
    "import h5py\n",
    "f = h5py.File(image_file.filename, 'r')"
   ]
  },
  {
   "cell_type": "code",
   "execution_count": null,
   "id": "0284726e-81cd-4c87-beb3-07ea5020bfa8",
   "metadata": {},
   "outputs": [],
   "source": [
    "list(f.keys())"
   ]
  },
  {
   "cell_type": "markdown",
   "id": "8eb8d9c5-94eb-431e-a5dd-b44895028db5",
   "metadata": {},
   "source": [
    "Here 'Config', 'Header', 'Parameters' are groups copied over from the snapshot file used to create the image (.0.hdf5 when there are multiple files). 'Density' and 'Enstrophy' are 2D arrays with the saved images. The group 'image_info' contains essential information about the image, namely:"
   ]
  },
  {
   "cell_type": "code",
   "execution_count": null,
   "id": "4035f92a-0f9b-47d3-83b4-22ecab296655",
   "metadata": {},
   "outputs": [],
   "source": [
    "print(f['image_info'].keys())\n",
    "print(f['image_info'].attrs.keys())"
   ]
  },
  {
   "cell_type": "markdown",
   "id": "9a4d90fc-c99a-4b4e-aefe-b0638d7c26fb",
   "metadata": {},
   "source": [
    "We can plot the image and use 'image_info' to get the extent of the image."
   ]
  },
  {
   "cell_type": "code",
   "execution_count": null,
   "id": "1f70643f-e898-417c-811c-2bc5058134c3",
   "metadata": {},
   "outputs": [],
   "source": [
    "im = plt.imshow(f['Density'], extent=f['image_info']['extent'], norm=LogNorm())\n",
    "cbar = plt.colorbar(im, fraction=0.025, pad=0.04)"
   ]
  },
  {
   "cell_type": "markdown",
   "id": "8c610318-ba0d-4993-992f-a2871648645d",
   "metadata": {},
   "source": [
    "## Getting the units right\n",
    "\n",
    "The plot above is still in comoving code units, we can use the ImageReader class to automatically get the image data in the form of PaicosQuantities (i.e. with units and in-built methods for manipulation). All the relevant information is stored in the image file, e.g.:"
   ]
  },
  {
   "cell_type": "code",
   "execution_count": null,
   "id": "3fbc1381-6576-45de-be56-2005bbbd1ae6",
   "metadata": {},
   "outputs": [],
   "source": [
    "dict(f['Density'].attrs)"
   ]
  },
  {
   "cell_type": "code",
   "execution_count": null,
   "id": "2d56d774-2663-429e-81de-889463efa39d",
   "metadata": {},
   "outputs": [],
   "source": [
    "im = pa.ImageReader(basedir=pa.data_dir, snapnum=247,\n",
    "                 basename='test_arepo_image_format')\n",
    "\n",
    "# Convert the extent to Mpc and get rid of the h factor\n",
    "extent = im.centered_extent.to('Mpc').no_small_h #.to_physical\n",
    "\n",
    "# Get rid of both a and h in the density\n",
    "rho = im['Density'].to_physical\n",
    "\n",
    "# Convert rho to typical astro units\n",
    "rho = rho.astro\n",
    "\n",
    "# Convert rho to cgs\n",
    "rho = rho.cgs\n",
    "\n",
    "# Plot the image\n",
    "image = plt.imshow(rho.value, extent=extent.value, norm=LogNorm())\n",
    "\n",
    "# Add a colorbar\n",
    "cbar = plt.colorbar(image, fraction=0.025, pad=0.04)\n",
    "\n",
    "# Set the labels. The units for the labels are here set using the .label method\n",
    "# of the PaicosQuantity. This internally uses astropy functionality and is\n",
    "# mainly a convenience function.\n",
    "cbar.set_label(rho.label('\\\\rho'))\n",
    "plt.xlabel(extent.label('x'))\n",
    "plt.ylabel(extent.label('y'))"
   ]
  },
  {
   "cell_type": "code",
   "execution_count": null,
   "id": "b96c6997-36e0-49f4-91f3-22f29ca436dd",
   "metadata": {},
   "outputs": [],
   "source": [
    "im.center\n",
    "im.widths"
   ]
  },
  {
   "cell_type": "code",
   "execution_count": null,
   "id": "1d02bea7-2c3e-4ffb-abcb-a3798c431c8c",
   "metadata": {},
   "outputs": [],
   "source": []
  },
  {
   "cell_type": "code",
   "execution_count": null,
   "id": "7ae76537-1325-458e-9104-3d801ddf2cfd",
   "metadata": {},
   "outputs": [],
   "source": []
  },
  {
   "cell_type": "code",
   "execution_count": null,
   "id": "c699655e-10a5-41da-ba1d-b211ef25699b",
   "metadata": {},
   "outputs": [],
   "source": []
  }
 ],
 "metadata": {
  "kernelspec": {
   "display_name": "Python 3 (ipykernel)",
   "language": "python",
   "name": "python3"
  },
  "language_info": {
   "codemirror_mode": {
    "name": "ipython",
    "version": 3
   },
   "file_extension": ".py",
   "mimetype": "text/x-python",
   "name": "python",
   "nbconvert_exporter": "python",
   "pygments_lexer": "ipython3",
   "version": "3.10.12"
  }
 },
 "nbformat": 4,
 "nbformat_minor": 5
}
