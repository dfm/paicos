{
 "cells": [
  {
   "cell_type": "markdown",
   "id": "43b2f4ef-c9c3-46ce-b4b2-a822c3600e11",
   "metadata": {},
   "source": [
    "# Some examples of using Paicos\n",
    "\n",
    "This script shows how to\n",
    "\n",
    "- load data\n",
    "- make projections and slices\n",
    "- save them as an 'ArepoImage'\n",
    "- how to convert the Arepo data from comoving code units to physical values in various unit systems\n"
   ]
  },
  {
   "cell_type": "markdown",
   "id": "b5ffecf2-3b1f-4616-b394-2b181c0dd874",
   "metadata": {},
   "source": [
    "## Compilation\n",
    "The first step is to compile the code, this only needs to be done the first time you use Paicos (uncomment all four lines and replace the path to your own cloned version)"
   ]
  },
  {
   "cell_type": "code",
   "execution_count": null,
   "id": "8dd135d5-5106-419c-9a56-7211e0790c5a",
   "metadata": {},
   "outputs": [],
   "source": [
    "#%%bash\n",
    "#cd /llust21/berlok/paicos\n",
    "#make clean\n",
    "#make"
   ]
  },
  {
   "cell_type": "markdown",
   "id": "76db5702-5cb4-433e-af1a-8eef178e9116",
   "metadata": {},
   "source": [
    "## Loading arepo snapshots\n",
    "\n",
    "We load a zoom factor 12 galaxy cluster simulation below"
   ]
  },
  {
   "cell_type": "code",
   "execution_count": null,
   "id": "96daabc9-0510-4667-ac79-f9c3def959a7",
   "metadata": {},
   "outputs": [],
   "source": [
    "import paicos as pa\n",
    "import numpy as np\n",
    "simfolder = '/llust21/cosmo-plasm/zoom-simulations/halo_0003/adiabatic-mhd/zoom12/'\n",
    "\n",
    "# A snapshot object\n",
    "snap = pa.Snapshot(simfolder + 'output', 130)\n",
    "\n",
    "# The center of the most massive Friends-of-friends group in the simulation\n",
    "center = snap.Cat.Group['GroupPos'][0]\n",
    "\n",
    "# The available fields for a PartType can be found as shown below\n",
    "keys = snap.info(0)"
   ]
  },
  {
   "cell_type": "markdown",
   "id": "0f4c6c0f-1115-404f-bd5b-b834b3dbee34",
   "metadata": {},
   "source": [
    "We can look at some of snaps attributes:"
   ]
  },
  {
   "cell_type": "code",
   "execution_count": null,
   "id": "4f861ef1-966e-49ee-b3b1-5d9601ea09bf",
   "metadata": {},
   "outputs": [],
   "source": [
    "snap['0_Density']"
   ]
  },
  {
   "cell_type": "code",
   "execution_count": null,
   "id": "d9ab057a-68a4-46dd-a14d-6481ca59dc17",
   "metadata": {},
   "outputs": [],
   "source": [
    "print(snap.age)\n",
    "print(snap.lookback_time)\n",
    "print(snap.converter.cosmo)\n",
    "snap.box_size\n",
    "# print(snap.Config)\n",
    "# print(snap.Parameters)\n",
    "# print(snap.Header)\n",
    "# print(snap.z)"
   ]
  },
  {
   "cell_type": "markdown",
   "id": "6a7205e7-779f-4d3e-922a-d799f7ee2efe",
   "metadata": {},
   "source": [
    "\n",
    "Loading of data can be done using function calls or by trying to access them explicitly."
   ]
  },
  {
   "cell_type": "code",
   "execution_count": null,
   "id": "f926a39f-0967-49ca-837c-18bf0e57e3ab",
   "metadata": {},
   "outputs": [],
   "source": [
    "# Load some variables from the PartType 0 (gas variables) \n",
    "\n",
    "# You can explicitly load using function call:\n",
    "snap.load_data(0, 'Coordinates')\n",
    "snap['0_Coordinates']\n",
    "\n",
    "# But is much easier to just do it like this:\n",
    "snap['0_Density']\n",
    "snap['0_MagneticField']\n",
    "\n",
    "# snap\n",
    "snap"
   ]
  },
  {
   "cell_type": "markdown",
   "id": "31dc6bbc-16ef-4963-8fff-86e1fc657dba",
   "metadata": {},
   "source": [
    "This loads a PaicosQuantity (basically a subclass of an astropy quantity). Here we can see the units used in the simulation. small_h and small_a are the reduced Hubble parameter and the scale factor, respectively. These quantities have the following useful methods:"
   ]
  },
  {
   "cell_type": "code",
   "execution_count": null,
   "id": "3aba6d3e-69dd-4091-b575-a5633a593b9e",
   "metadata": {},
   "outputs": [],
   "source": [
    "# Unit conversion\n",
    "rho = snap['0_Density']\n",
    "print('rho[0] in CGS:\\t', rho[0].cgs)\n",
    "print('rho[0] in SI:\\t', rho[0].si)\n",
    "print(\"rho[0] in 'astro' units:\\t\", rho[0].astro)\n",
    "print(\"rho[0] in Msun/au^3:\\t\", rho[0].to('Msun/au3'), '\\n\\n')\n",
    "\n",
    "# Get rid of h factors\n",
    "print('rho[0] without h:\\t', rho[0].no_small_h)\n",
    "\n",
    "# Get rid of both a and h factors\n",
    "print('rho[0] without a and h:\\t', rho[0].to_physical, '\\n\\n')\n",
    "\n",
    "# Get a label for use in plots\n",
    "print(rho.label(r'\\rho'))\n",
    "print(rho.astro.label(r'\\rho'))"
   ]
  },
  {
   "cell_type": "markdown",
   "id": "5c087972-3d83-408a-9913-f2c360dfb752",
   "metadata": {},
   "source": [
    "Please note that all these methods return a new object without modifying the original data. Modification can be done by overwriting, e.g., like this:"
   ]
  },
  {
   "cell_type": "code",
   "execution_count": null,
   "id": "68e6810d-4344-4243-861d-112fe9ac10ae",
   "metadata": {},
   "outputs": [],
   "source": [
    "rho = rho.to_physical\n",
    "rho"
   ]
  },
  {
   "cell_type": "markdown",
   "id": "138d4ba5-e469-4625-82ab-1bf9ce655398",
   "metadata": {},
   "source": [
    "You can ask astropy to figure out other ways of writing units, e.g.:"
   ]
  },
  {
   "cell_type": "code",
   "execution_count": null,
   "id": "cd821396-24d5-4055-bbe5-7e641bc74211",
   "metadata": {},
   "outputs": [],
   "source": [
    "rho.unit.compose()"
   ]
  },
  {
   "cell_type": "markdown",
   "id": "8cae2787-f1f1-4291-8467-cb08294eebd2",
   "metadata": {},
   "source": [
    "This allows us to do the following:"
   ]
  },
  {
   "cell_type": "code",
   "execution_count": null,
   "id": "9137fb42-2661-41e1-8ec6-e015146259c7",
   "metadata": {},
   "outputs": [],
   "source": [
    "rho.to(\"arepo_density\")"
   ]
  },
  {
   "cell_type": "markdown",
   "id": "e285ebd7-9f3f-4943-ab32-f84410f014f1",
   "metadata": {},
   "source": [
    "You can also automatically calculate derived variables, e.g.:"
   ]
  },
  {
   "cell_type": "code",
   "execution_count": null,
   "id": "7d937ab7-38a4-450d-9d1f-c3e61b6c17b8",
   "metadata": {},
   "outputs": [],
   "source": [
    "snap['0_Volume']\n",
    "snap['0_TemperaturesTimesMasses']\n",
    "snap['0_VelocityCurvature']"
   ]
  },
  {
   "cell_type": "markdown",
   "id": "8a80291a-21c0-4236-9754-fd1ad38a0240",
   "metadata": {},
   "source": [
    "## Making projections\n",
    "\n",
    "We now use the Paicos projector class, the 'widths' vector is the size of the considered box in x,y,z coordinates. This box is centered at 'center' vector.\n",
    "\n",
    "The direction can be set to 'x', 'y' or 'z'. If the direction is 'z' (as below) then widths[2] is the depth of the projection and the 2D returned array is in the xy plane.\n",
    "\n",
    "npix is the number of pixels in the horizontal direction of the image. The width/height ratio should be such that $$npix*height/width$$ is an integer."
   ]
  },
  {
   "cell_type": "code",
   "execution_count": null,
   "id": "2d8c59e9-d78a-4e0f-9f6b-76d5350fbfdd",
   "metadata": {},
   "outputs": [],
   "source": [
    "widths = [26000, 13000, 10000]\n",
    "projector = pa.Projector(snap, center, widths, 'z', npix=2048)"
   ]
  },
  {
   "cell_type": "markdown",
   "id": "1aec40de-356b-4af5-ae4f-b23a561be52f",
   "metadata": {},
   "source": [
    "We can call the project_variable method as below. This method can take a number of standard strings (which then internally calls the get_variable function, see further details below) or it can take an array. Both methods are shown below."
   ]
  },
  {
   "cell_type": "code",
   "execution_count": null,
   "id": "4211098e-f161-4097-999a-9f7b0e69ca38",
   "metadata": {},
   "outputs": [],
   "source": [
    "Masses = projector.project_variable('0_Masses')\n",
    "Volumes = projector.project_variable(snap['0_Volume'])\n",
    "rho = Masses/Volumes\n",
    "\n",
    "rho"
   ]
  },
  {
   "cell_type": "markdown",
   "id": "b515805a-f521-43ae-8714-6fdb8d3991ff",
   "metadata": {},
   "source": [
    "We can now plot the projected density"
   ]
  },
  {
   "cell_type": "code",
   "execution_count": null,
   "id": "9ac3bf07-f6ce-46c8-8295-f9dc9fe0b69e",
   "metadata": {},
   "outputs": [],
   "source": [
    "%matplotlib inline\n",
    "import matplotlib.pyplot as plt\n",
    "from matplotlib.colors import LogNorm\n",
    "plt.rc('image', origin='lower', cmap='RdBu_r', interpolation='None')\n",
    "plt.imshow(rho, cmap='YlGnBu', extent=projector.extent.value, norm=LogNorm())\n",
    "# plt.savefig('Z24_snap130_wide_projection.pdf', dpi=2000, bbox_inches='tight')"
   ]
  },
  {
   "cell_type": "markdown",
   "id": "c9dd6da5-bad4-4e61-9d02-e11766ee8e4c",
   "metadata": {},
   "source": [
    "## Making slices\n",
    "\n",
    "Next, we will take a look at making a slice through the simulation. The width is by definition zero, and the user has to set this explicitly by setting a zero in the 'widths' vector. Below we show a slice of density, comparing with the projected density."
   ]
  },
  {
   "cell_type": "code",
   "execution_count": null,
   "id": "9c6df2b9-000b-485d-a9d5-65dcbffa366b",
   "metadata": {},
   "outputs": [],
   "source": [
    "widths = [26000, 13000, 0]\n",
    "slicer = pa.Slicer(snap, center, widths, 'z', npix=2048)"
   ]
  },
  {
   "cell_type": "code",
   "execution_count": null,
   "id": "5fead735-e7b6-4cbb-b2af-33b7d393b3de",
   "metadata": {},
   "outputs": [],
   "source": [
    "plt.figure(1)\n",
    "plt.clf()\n",
    "fix, axes = plt.subplots(nrows=2)\n",
    "\n",
    "# Slice by passing an array\n",
    "rho_slice = slicer.slice_variable(snap['0_Density'])\n",
    "\n",
    "# Slice by passing a string (see snap.info(0) for the available strings)\n",
    "rho_slice = slicer.slice_variable('0_Density')\n",
    "\n",
    "# Now plot slice and projection next to each other\n",
    "axes[0].imshow(rho_slice.to_physical, norm=LogNorm())\n",
    "axes[1].imshow(rho, norm=LogNorm())\n",
    "axes[0].set_title('Slice')\n",
    "axes[1].set_title('Projected')\n",
    "for ii in range(2):\n",
    "    axes[ii].set_axis_off()\n",
    "# plt.savefig('halo3_Z12_slice_projec_comparison.pdf', dpi=2000, bbox_inches='tight')"
   ]
  },
  {
   "cell_type": "markdown",
   "id": "6e67f5ce-fa6a-489e-af2a-de9a674054ab",
   "metadata": {},
   "source": [
    "We can also make slices of other variables. The Slicer object stores the required information (indices of the Voronoi cells closest to the image grid points), so the computing time needed for making additional slices is neglibible.\n",
    "\n",
    "Let us for instance consider the enstrophy which gives an indication of the amount of turbulence in the galaxy cluster.\n",
    "It is defined as\n",
    "\n",
    "1/2|∇×v|²\n",
    "\n",
    "and can be found from the 'VelocityGradient' field (the 3x3 tensor of velocity derivatives, ∂ᵢvⱼ). This is done internally below:"
   ]
  },
  {
   "cell_type": "code",
   "execution_count": null,
   "id": "62492c02-669f-4c00-b33e-6c04cd1a929c",
   "metadata": {},
   "outputs": [],
   "source": [
    "extent = slicer.extent.to('Mpc')\n",
    "\n",
    "plt.imshow(slicer.slice_variable('0_Enstrophy'),\n",
    "           extent=extent.value,\n",
    "           norm=LogNorm())"
   ]
  },
  {
   "cell_type": "markdown",
   "id": "6a7d496b-633c-4ffd-89d4-6397f5e08c60",
   "metadata": {},
   "source": [
    "## Storing image data\n",
    "\n",
    "The computing time for slices, and in particular, projections, is often quite long. It is therefore convenient to be able to store the image data so that this step is de-coupled from the often many matplotlib iterations.\n",
    "\n",
    "Below I illustrate how to save an Arepo image, created using either a Projector or Slicer object."
   ]
  },
  {
   "cell_type": "code",
   "execution_count": null,
   "id": "b40db898-31d8-4422-9730-76a933b446b4",
   "metadata": {},
   "outputs": [],
   "source": [
    "image_file = pa.ArepoImage(slicer, basedir=pa.root_dir + '/data/',\n",
    "                           basename='test_arepo_image_format')\n",
    "\n",
    "image_file.save_image('Density', slicer.slice_variable('0_Density'))\n",
    "image_file.save_image('Enstrophy', slicer.slice_variable('0_Enstrophy'))\n",
    "\n",
    "image_file.finalize()"
   ]
  },
  {
   "cell_type": "markdown",
   "id": "40cf63cb-b1bb-4beb-b6f7-561cb28a641e",
   "metadata": {},
   "source": [
    "The constructed file is found at:"
   ]
  },
  {
   "cell_type": "code",
   "execution_count": null,
   "id": "de6f3c71-b77e-4953-85d1-af8099322c8a",
   "metadata": {},
   "outputs": [],
   "source": [
    "image_file.filename"
   ]
  },
  {
   "cell_type": "markdown",
   "id": "adcfa4e7-96a5-44a2-bef1-22e59c48a887",
   "metadata": {},
   "source": [
    "Now lets open this image and looks at its contents:"
   ]
  },
  {
   "cell_type": "code",
   "execution_count": null,
   "id": "0303d29a-6235-489a-a5e0-9e4a0d20f3c9",
   "metadata": {},
   "outputs": [],
   "source": [
    "import h5py\n",
    "f = h5py.File(image_file.filename, 'r')"
   ]
  },
  {
   "cell_type": "code",
   "execution_count": null,
   "id": "0284726e-81cd-4c87-beb3-07ea5020bfa8",
   "metadata": {},
   "outputs": [],
   "source": [
    "list(f.keys())"
   ]
  },
  {
   "cell_type": "markdown",
   "id": "8eb8d9c5-94eb-431e-a5dd-b44895028db5",
   "metadata": {},
   "source": [
    "Here 'Config', 'Header', 'Parameters' are groups copied over from the snapshot file used to create the image (.0.hdf5 when there are multiple files). 'Density' and 'Enstrophy' is 2D array with the saved images. The group 'image_info' contains essential information about the image, namely:"
   ]
  },
  {
   "cell_type": "code",
   "execution_count": null,
   "id": "4035f92a-0f9b-47d3-83b4-22ecab296655",
   "metadata": {},
   "outputs": [],
   "source": [
    "print(f['image_info'].keys())\n",
    "print(f['image_info'].attrs.keys())"
   ]
  },
  {
   "cell_type": "markdown",
   "id": "9a4d90fc-c99a-4b4e-aefe-b0638d7c26fb",
   "metadata": {},
   "source": [
    "We can plot the image and use 'image_info' to get the extent of the image."
   ]
  },
  {
   "cell_type": "code",
   "execution_count": null,
   "id": "1f70643f-e898-417c-811c-2bc5058134c3",
   "metadata": {},
   "outputs": [],
   "source": [
    "im = plt.imshow(f['Density'], extent=f['image_info']['extent'], norm=LogNorm())\n",
    "cbar = plt.colorbar(im, fraction=0.025, pad=0.04)"
   ]
  },
  {
   "cell_type": "markdown",
   "id": "8c610318-ba0d-4993-992f-a2871648645d",
   "metadata": {},
   "source": [
    "## Getting the units right\n",
    "\n",
    "The plot above is still in comoving code units, we can use the ImageReader class to automatically get the image data in the form of PaicosQuantities (i.e. with units and in-built methods for manipulation). All the relevant information is stored in the image file, e.g.:"
   ]
  },
  {
   "cell_type": "code",
   "execution_count": null,
   "id": "3fbc1381-6576-45de-be56-2005bbbd1ae6",
   "metadata": {},
   "outputs": [],
   "source": [
    "dict(f['Density'].attrs)"
   ]
  },
  {
   "cell_type": "code",
   "execution_count": null,
   "id": "2d56d774-2663-429e-81de-889463efa39d",
   "metadata": {},
   "outputs": [],
   "source": [
    "im = pa.ImageReader(basedir=pa.root_dir + '/data/', snapnum=130,\n",
    "                 basename='test_arepo_image_format')\n",
    "\n",
    "extent = im.extent.to('Mpc').to_physical\n",
    "rho = im['Density'].to_physical\n",
    "rho = rho.astro\n",
    "#rho = rho.cgs\n",
    "image = plt.imshow(rho, extent=extent.value, norm=LogNorm())\n",
    "cbar = plt.colorbar(image, fraction=0.025, pad=0.04)\n",
    "cbar.set_label(rho.label('\\\\rho'))\n",
    "plt.xlabel(extent.label())\n",
    "plt.ylabel(extent.label())"
   ]
  },
  {
   "cell_type": "code",
   "execution_count": null,
   "id": "1d02bea7-2c3e-4ffb-abcb-a3798c431c8c",
   "metadata": {},
   "outputs": [],
   "source": []
  }
 ],
 "metadata": {
  "kernelspec": {
   "display_name": "Python 3 (ipykernel)",
   "language": "python",
   "name": "python3"
  },
  "language_info": {
   "codemirror_mode": {
    "name": "ipython",
    "version": 3
   },
   "file_extension": ".py",
   "mimetype": "text/x-python",
   "name": "python",
   "nbconvert_exporter": "python",
   "pygments_lexer": "ipython3",
   "version": "3.10.8"
  }
 },
 "nbformat": 4,
 "nbformat_minor": 5
}
